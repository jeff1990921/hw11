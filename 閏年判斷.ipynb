{
  "nbformat": 4,
  "nbformat_minor": 0,
  "metadata": {
    "colab": {
      "name": "閏年判斷.ipynb",
      "provenance": [],
      "collapsed_sections": []
    },
    "kernelspec": {
      "name": "python3",
      "display_name": "Python 3"
    }
  },
  "cells": [
    {
      "cell_type": "markdown",
      "metadata": {
        "id": "MhZKCuIzsHrM",
        "colab_type": "text"
      },
      "source": [
        "輸入年份，判斷是否閏年"
      ]
    },
    {
      "cell_type": "code",
      "metadata": {
        "id": "tQzkOO-Lr-z7",
        "colab_type": "code",
        "colab": {}
      },
      "source": [
        "def isLeapYear(year):\n",
        "  if year % 4:\n",
        "    return f'{year} is not leap year'\n",
        "  if not year % 100 and year % 1000:\n",
        "    return f'{year} is not leap year'\n",
        "  return f'{year} is leap year'"
      ],
      "execution_count": 0,
      "outputs": []
    },
    {
      "cell_type": "code",
      "metadata": {
        "id": "AxXVFCAGsT0D",
        "colab_type": "code",
        "outputId": "73a1f9a9-ba6f-4790-c074-9141a61c587a",
        "colab": {
          "base_uri": "https://localhost:8080/",
          "height": 187
        }
      },
      "source": [
        "for i in range(5):\n",
        "  year = int(input('input year:'))\n",
        "  print(isLeapYear(year))"
      ],
      "execution_count": 0,
      "outputs": [
        {
          "output_type": "stream",
          "text": [
            "input year:2018\n",
            "2018 is not leap year\n",
            "input year:2004\n",
            "2004 is leap year\n",
            "input year:2100\n",
            "2100 is not leap year\n",
            "input year:2000\n",
            "2000 is leap year\n",
            "input year:1997\n",
            "1997 is not leap year\n"
          ],
          "name": "stdout"
        }
      ]
    }
  ]
}